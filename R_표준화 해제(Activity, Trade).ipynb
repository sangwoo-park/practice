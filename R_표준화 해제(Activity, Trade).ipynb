{
 "cells": [
  {
   "cell_type": "code",
   "execution_count": 1,
   "metadata": {},
   "outputs": [
    {
     "name": "stderr",
     "output_type": "stream",
     "text": [
      "Updating HTML index of packages in '.Library'\n",
      "Making 'packages.html' ... done\n"
     ]
    }
   ],
   "source": [
    "install.packages(\"varhandle\")\n",
    "library(varhandle)"
   ]
  },
  {
   "cell_type": "markdown",
   "metadata": {},
   "source": [
    "Activity 표준화 해제"
   ]
  },
  {
   "cell_type": "code",
   "execution_count": 2,
   "metadata": {},
   "outputs": [
    {
     "name": "stderr",
     "output_type": "stream",
     "text": [
      "Warning message in file(file, \"rt\"):\n",
      "“cannot open file 'train_activity.csv': No such file or directory”"
     ]
    },
    {
     "ename": "ERROR",
     "evalue": "Error in file(file, \"rt\"): cannot open the connection\n",
     "output_type": "error",
     "traceback": [
      "Error in file(file, \"rt\"): cannot open the connection\nTraceback:\n",
      "1. read.csv(\"train_activity.csv\")",
      "2. read.table(file = file, header = header, sep = sep, quote = quote, \n .     dec = dec, fill = fill, comment.char = comment.char, ...)",
      "3. file(file, \"rt\")"
     ]
    }
   ],
   "source": [
    "####데이터 불러오기\n",
    "act = read.csv(\"train_activity.csv\")\n",
    "tact = read.csv(\"test_activity.csv\")\n",
    "totalact =  rbind(act, tact)"
   ]
  },
  {
   "cell_type": "code",
   "execution_count": null,
   "metadata": {},
   "outputs": [],
   "source": [
    "####표준화 해제\n",
    "unstd_totalact = totalact\n",
    "unstd_totalact[, c(4:38)] = NA\n",
    "\n",
    "for(i in 4:38)\n",
    "{\n",
    "  # 유니크한 벡터 만들기\n",
    "  uniq     = totalact[, i] %>% unique() %>% sort(decreasing = TRUE)\n",
    "  \n",
    "  # 연속한 값들의 차이 구하고 그 차이 값으로 가장 많이 나온 값을 하나의 단위로써 생각하기\n",
    "  diff     = -diff(uniq) %>% table() %>% as.data.frame() %>% arrange(desc(Freq))\n",
    "  scale    = diff[1,1] %>% unfactor() %>% as.numeric()\n",
    "  \n",
    "  # 위에서 구한 단위로 diff 벡터 및 uniq 벡터 나눠서 scaling\n",
    "  scaled   = totalact[, i]/scale\n",
    "  \n",
    "  # 소숫점 아래 Calibrating\n",
    "  floating    = scaled - round(scaled)\n",
    "  floating    = floating %>% table() %>% as.data.frame() %>% arrange(desc(Freq))\n",
    "  floating    = floating[1,1] %>% unfactor() %>% as.numeric()\n",
    "  calibrated  = scaled - floating\n",
    "  \n",
    "  # Shifting\n",
    "  shifted = calibrated - min(calibrated)\n",
    "  \n",
    "  # 결과값 대입\n",
    "  unstd_totalact[, i] = shifted\n",
    "}"
   ]
  },
  {
   "cell_type": "markdown",
   "metadata": {},
   "source": [
    "Trade 표준화 해제"
   ]
  },
  {
   "cell_type": "code",
   "execution_count": null,
   "metadata": {},
   "outputs": [],
   "source": [
    "#####데이터 불러오기\n",
    "trade      = read.csv(\"train_trade.csv\")\n",
    "ttrade     = read.csv(\"test_trade.csv\")\n",
    "totaltrade = rbind(trade,ttrade)\n",
    "\n",
    "\n",
    "#####\"item_amount\" column 표준화 해제\n",
    "unstd_totaltrade = totaltrade\n",
    "unstd_totaltrade[, 7] = NA\n",
    "\n",
    "# 유니크한 벡터 만들기\n",
    "uniq     = totaltrade[, 7] %>% unique() %>% sort(decreasing = TRUE)\n",
    "\n",
    "# 연속한 값들의 차이 구하고 그 차이 값으로 가장 많이 나온 값을 하나의 단위로써 생각하기\n",
    "diff     = -diff(uniq) %>% table() %>% as.data.frame() %>% arrange(desc(Freq))\n",
    "scale    = diff[1,1] %>% unfactor() %>% as.numeric()\n",
    "\n",
    "# 위에서 구한 단위로 diff 벡터 및 uniq 벡터 나눠서 scaling\n",
    "scaled   = totaltrade[, 7]/scale\n",
    "\n",
    "# 소숫점 아래 Calibrating\n",
    "floating    = scaled - round(scaled)\n",
    "floating    = floating %>% table() %>% as.data.frame() %>% arrange(desc(Freq))\n",
    "floating    = floating[1,1] %>% unfactor() %>% as.numeric()\n",
    "calibrated  = scaled - floating\n",
    "\n",
    "# Shifting\n",
    "shifted = calibrated - min(calibrated)\n",
    "\n",
    "# 결과값 대입\n",
    "unstd_totaltrade[, 7] = shifted\n",
    "\n",
    "\n",
    "\n",
    "#####\n",
    "# label이 존재하는 레코드 뽑기\n",
    "from_trade   = unstd_totaltrade[unstd_totaltrade$source_acc_id %in% totalact$acc_id, ]\n",
    "to_trade     = unstd_totaltrade[unstd_totaltrade$target_acc_id %in% totalact$acc_id, ]\n",
    "\n",
    "\n",
    "#####\n",
    "# (id, week, item_amount)의 데이터 프레임 생성\n",
    "temp_from_trade = from_trade %>% group_by(source_acc_id, trade_week, item_type) %>% summarize(sum = sum(item_amount))\n",
    "from_trade      = temp_from_trade %>% spread(item_type, sum)\n",
    "from_trade      = from_trade[order(from_trade$source_acc_id),]\n",
    "names(from_trade)[c(1,3:8)] = c(\"acc_id\",\"from_accessory\", \"from_costume\", \"from_gem\", \"from_grocery\" ,\"from_money\", \"from_weapon\")\n",
    "\n",
    "\n",
    "temp_to_trade = to_trade %>% group_by(target_acc_id, trade_week, item_type) %>% summarize(sum = sum(item_amount)) \n",
    "to_trade      = temp_to_trade %>% spread(item_type, sum)\n",
    "to_trade      = to_trade[order(to_trade$target_acc_id),]\n",
    "names(to_trade)[c(1,3:8)] = c(\"acc_id\",\"to_accessory\", \"to_costume\", \"to_gem\" ,\"to_grocery\", \"to_money\", \"to_weapon\")\n",
    "\n",
    "#####\n",
    "# 데이터 칼럼으로 넓어지게끔 스팬\n",
    "spanned_trade = merge(from_trade, to_trade, by = c(\"acc_id\", \"trade_week\"), all = TRUE)\n",
    "spanned_trade[is.na(spanned_trade)] = 0"
   ]
  }
 ],
 "metadata": {
  "kernelspec": {
   "display_name": "R",
   "language": "R",
   "name": "ir"
  },
  "language_info": {
   "codemirror_mode": "r",
   "file_extension": ".r",
   "mimetype": "text/x-r-source",
   "name": "R",
   "pygments_lexer": "r",
   "version": "3.3.2"
  }
 },
 "nbformat": 4,
 "nbformat_minor": 2
}
