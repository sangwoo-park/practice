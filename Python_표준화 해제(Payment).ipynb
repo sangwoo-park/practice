{
 "cells": [
  {
   "cell_type": "code",
   "execution_count": 1,
   "metadata": {},
   "outputs": [],
   "source": [
    "import pandas as pd"
   ]
  },
  {
   "cell_type": "code",
   "execution_count": 2,
   "metadata": {},
   "outputs": [],
   "source": [
    "data = pd.read_csv(\"data.csv\", index_col = 0)"
   ]
  },
  {
   "cell_type": "code",
   "execution_count": 9,
   "metadata": {},
   "outputs": [],
   "source": [
    "data = data.drop('payment', axis = 1)"
   ]
  },
  {
   "cell_type": "code",
   "execution_count": 13,
   "metadata": {},
   "outputs": [
    {
     "data": {
      "text/html": [
       "<div>\n",
       "<table border=\"1\" class=\"dataframe\">\n",
       "  <thead>\n",
       "    <tr style=\"text-align: right;\">\n",
       "      <th></th>\n",
       "      <th>wk</th>\n",
       "      <th>acc_id</th>\n",
       "      <th>cnt_dt</th>\n",
       "      <th>play_time</th>\n",
       "      <th>npc_exp</th>\n",
       "      <th>npc_hongmun</th>\n",
       "      <th>quest_exp</th>\n",
       "      <th>quest_hongmun</th>\n",
       "      <th>item_hongmun</th>\n",
       "      <th>game_combat_time</th>\n",
       "      <th>...</th>\n",
       "      <th>game_efficiency</th>\n",
       "      <th>1wk</th>\n",
       "      <th>2wk</th>\n",
       "      <th>3wk</th>\n",
       "      <th>4wk</th>\n",
       "      <th>5wk</th>\n",
       "      <th>6wk</th>\n",
       "      <th>7wk</th>\n",
       "      <th>8wk</th>\n",
       "      <th>num_wk</th>\n",
       "    </tr>\n",
       "  </thead>\n",
       "  <tbody>\n",
       "    <tr>\n",
       "      <th>0</th>\n",
       "      <td>7</td>\n",
       "      <td>3dc6f2875dc6e6f35b9e2bdb25b391a8003386ff23becd...</td>\n",
       "      <td>4</td>\n",
       "      <td>278088.999988</td>\n",
       "      <td>152118.000008</td>\n",
       "      <td>36048.000001</td>\n",
       "      <td>9.111460e+05</td>\n",
       "      <td>1.655600e+06</td>\n",
       "      <td>0.0</td>\n",
       "      <td>62088.0</td>\n",
       "      <td>...</td>\n",
       "      <td>9.906584</td>\n",
       "      <td>0</td>\n",
       "      <td>0</td>\n",
       "      <td>0</td>\n",
       "      <td>0</td>\n",
       "      <td>0</td>\n",
       "      <td>0</td>\n",
       "      <td>1</td>\n",
       "      <td>1</td>\n",
       "      <td>2</td>\n",
       "    </tr>\n",
       "    <tr>\n",
       "      <th>1</th>\n",
       "      <td>8</td>\n",
       "      <td>3dc6f2875dc6e6f35b9e2bdb25b391a8003386ff23becd...</td>\n",
       "      <td>5</td>\n",
       "      <td>337199.999986</td>\n",
       "      <td>163768.000009</td>\n",
       "      <td>54300.000002</td>\n",
       "      <td>1.231374e+06</td>\n",
       "      <td>2.483400e+06</td>\n",
       "      <td>0.0</td>\n",
       "      <td>80692.0</td>\n",
       "      <td>...</td>\n",
       "      <td>11.663233</td>\n",
       "      <td>0</td>\n",
       "      <td>0</td>\n",
       "      <td>0</td>\n",
       "      <td>0</td>\n",
       "      <td>0</td>\n",
       "      <td>0</td>\n",
       "      <td>1</td>\n",
       "      <td>1</td>\n",
       "      <td>2</td>\n",
       "    </tr>\n",
       "    <tr>\n",
       "      <th>2</th>\n",
       "      <td>3</td>\n",
       "      <td>b8856358ff62e596fa07e3e40b8e7fd4b7729263c72b44...</td>\n",
       "      <td>2</td>\n",
       "      <td>1228.000000</td>\n",
       "      <td>28.000000</td>\n",
       "      <td>0.000000</td>\n",
       "      <td>8.610000e+02</td>\n",
       "      <td>0.000000e+00</td>\n",
       "      <td>0.0</td>\n",
       "      <td>111.0</td>\n",
       "      <td>...</td>\n",
       "      <td>0.723941</td>\n",
       "      <td>0</td>\n",
       "      <td>0</td>\n",
       "      <td>1</td>\n",
       "      <td>1</td>\n",
       "      <td>1</td>\n",
       "      <td>0</td>\n",
       "      <td>1</td>\n",
       "      <td>1</td>\n",
       "      <td>5</td>\n",
       "    </tr>\n",
       "    <tr>\n",
       "      <th>3</th>\n",
       "      <td>4</td>\n",
       "      <td>b8856358ff62e596fa07e3e40b8e7fd4b7729263c72b44...</td>\n",
       "      <td>2</td>\n",
       "      <td>347.000000</td>\n",
       "      <td>0.000000</td>\n",
       "      <td>0.000000</td>\n",
       "      <td>0.000000e+00</td>\n",
       "      <td>0.000000e+00</td>\n",
       "      <td>0.0</td>\n",
       "      <td>0.0</td>\n",
       "      <td>...</td>\n",
       "      <td>0.000000</td>\n",
       "      <td>0</td>\n",
       "      <td>0</td>\n",
       "      <td>1</td>\n",
       "      <td>1</td>\n",
       "      <td>1</td>\n",
       "      <td>0</td>\n",
       "      <td>1</td>\n",
       "      <td>1</td>\n",
       "      <td>5</td>\n",
       "    </tr>\n",
       "    <tr>\n",
       "      <th>4</th>\n",
       "      <td>5</td>\n",
       "      <td>b8856358ff62e596fa07e3e40b8e7fd4b7729263c72b44...</td>\n",
       "      <td>4</td>\n",
       "      <td>701.000000</td>\n",
       "      <td>0.000000</td>\n",
       "      <td>0.000000</td>\n",
       "      <td>0.000000e+00</td>\n",
       "      <td>0.000000e+00</td>\n",
       "      <td>0.0</td>\n",
       "      <td>0.0</td>\n",
       "      <td>...</td>\n",
       "      <td>0.000000</td>\n",
       "      <td>0</td>\n",
       "      <td>0</td>\n",
       "      <td>1</td>\n",
       "      <td>1</td>\n",
       "      <td>1</td>\n",
       "      <td>0</td>\n",
       "      <td>1</td>\n",
       "      <td>1</td>\n",
       "      <td>5</td>\n",
       "    </tr>\n",
       "  </tbody>\n",
       "</table>\n",
       "<p>5 rows × 80 columns</p>\n",
       "</div>"
      ],
      "text/plain": [
       "   wk                                             acc_id  cnt_dt  \\\n",
       "0   7  3dc6f2875dc6e6f35b9e2bdb25b391a8003386ff23becd...       4   \n",
       "1   8  3dc6f2875dc6e6f35b9e2bdb25b391a8003386ff23becd...       5   \n",
       "2   3  b8856358ff62e596fa07e3e40b8e7fd4b7729263c72b44...       2   \n",
       "3   4  b8856358ff62e596fa07e3e40b8e7fd4b7729263c72b44...       2   \n",
       "4   5  b8856358ff62e596fa07e3e40b8e7fd4b7729263c72b44...       4   \n",
       "\n",
       "       play_time        npc_exp   npc_hongmun     quest_exp  quest_hongmun  \\\n",
       "0  278088.999988  152118.000008  36048.000001  9.111460e+05   1.655600e+06   \n",
       "1  337199.999986  163768.000009  54300.000002  1.231374e+06   2.483400e+06   \n",
       "2    1228.000000      28.000000      0.000000  8.610000e+02   0.000000e+00   \n",
       "3     347.000000       0.000000      0.000000  0.000000e+00   0.000000e+00   \n",
       "4     701.000000       0.000000      0.000000  0.000000e+00   0.000000e+00   \n",
       "\n",
       "   item_hongmun  game_combat_time   ...    game_efficiency  1wk  2wk  3wk  \\\n",
       "0           0.0           62088.0   ...           9.906584    0    0    0   \n",
       "1           0.0           80692.0   ...          11.663233    0    0    0   \n",
       "2           0.0             111.0   ...           0.723941    0    0    1   \n",
       "3           0.0               0.0   ...           0.000000    0    0    1   \n",
       "4           0.0               0.0   ...           0.000000    0    0    1   \n",
       "\n",
       "   4wk  5wk  6wk  7wk  8wk  num_wk  \n",
       "0    0    0    0    1    1       2  \n",
       "1    0    0    0    1    1       2  \n",
       "2    1    1    0    1    1       5  \n",
       "3    1    1    0    1    1       5  \n",
       "4    1    1    0    1    1       5  \n",
       "\n",
       "[5 rows x 80 columns]"
      ]
     },
     "execution_count": 13,
     "metadata": {},
     "output_type": "execute_result"
    }
   ],
   "source": [
    "data.head()"
   ]
  },
  {
   "cell_type": "code",
   "execution_count": 14,
   "metadata": {},
   "outputs": [],
   "source": [
    "trainpay = pd.read_csv(\"train_payment.csv\")"
   ]
  },
  {
   "cell_type": "code",
   "execution_count": 15,
   "metadata": {},
   "outputs": [],
   "source": [
    "testpay = pd.read_csv(\"test_payment.csv\")"
   ]
  },
  {
   "cell_type": "code",
   "execution_count": 95,
   "metadata": {},
   "outputs": [],
   "source": [
    "totalpay = pd.concat([trainpay,testpay],axis=0)"
   ]
  },
  {
   "cell_type": "code",
   "execution_count": 96,
   "metadata": {},
   "outputs": [],
   "source": [
    "payment_amount_unique = totalpay['payment_amount'].unique()"
   ]
  },
  {
   "cell_type": "code",
   "execution_count": 97,
   "metadata": {},
   "outputs": [],
   "source": [
    "import numpy as np"
   ]
  },
  {
   "cell_type": "code",
   "execution_count": 98,
   "metadata": {},
   "outputs": [],
   "source": [
    "payment_unique_sorted = np.sort(payment_amount_unique)"
   ]
  },
  {
   "cell_type": "code",
   "execution_count": 99,
   "metadata": {},
   "outputs": [
    {
     "data": {
      "text/plain": [
       "0    90\n",
       "Name: 0.0351562599839, dtype: int64"
      ]
     },
     "execution_count": 99,
     "metadata": {},
     "output_type": "execute_result"
    }
   ],
   "source": [
    "pd.DataFrame(pd.DataFrame(np.diff(payment_unique_sorted))[0].value_counts()).iloc[0,:]"
   ]
  },
  {
   "cell_type": "code",
   "execution_count": 100,
   "metadata": {},
   "outputs": [
    {
     "data": {
      "text/plain": [
       "0          -4.263778\n",
       "1          -4.263778\n",
       "2          -4.263778\n",
       "3          -4.263778\n",
       "4          -4.263778\n",
       "5          -4.263778\n",
       "6          -4.263778\n",
       "7          -4.263778\n",
       "8          -4.263778\n",
       "9          -4.263778\n",
       "10         -4.263778\n",
       "11         -4.263778\n",
       "12         -4.263778\n",
       "13         -4.263778\n",
       "14         -4.263778\n",
       "15         -4.263778\n",
       "16         -4.263778\n",
       "17         -4.263778\n",
       "18         -4.263778\n",
       "19         -4.263778\n",
       "20         -4.263778\n",
       "21         -4.263778\n",
       "22         -4.263778\n",
       "23         -4.263778\n",
       "24         -4.263778\n",
       "25         -4.263778\n",
       "26         -4.263778\n",
       "27         -4.263778\n",
       "28         -4.263778\n",
       "29         -4.263778\n",
       "             ...    \n",
       "319970     -4.263778\n",
       "319971     -4.263778\n",
       "319972     -4.263778\n",
       "319973     -4.263778\n",
       "319974     -4.263778\n",
       "319975     -4.263778\n",
       "319976     -4.263778\n",
       "319977     -4.263778\n",
       "319978     -4.263778\n",
       "319979     -4.263778\n",
       "319980     -4.263778\n",
       "319981     -4.263778\n",
       "319982     -4.263778\n",
       "319983     -4.263778\n",
       "319984     15.736222\n",
       "319985     -4.263778\n",
       "319986     -4.263778\n",
       "319987     -4.263778\n",
       "319988     15.736222\n",
       "319989     -4.263778\n",
       "319990      7.857435\n",
       "319991     75.736222\n",
       "319992     45.736222\n",
       "319993     49.736222\n",
       "319994     -4.263778\n",
       "319995     -4.263778\n",
       "319996    412.736222\n",
       "319997     74.736222\n",
       "319998     -4.263778\n",
       "319999    152.736222\n",
       "Name: payment_amount, dtype: float64"
      ]
     },
     "execution_count": 100,
     "metadata": {},
     "output_type": "execute_result"
    }
   ],
   "source": [
    "(totalpay['payment_amount']/0.0351562599839)"
   ]
  },
  {
   "cell_type": "code",
   "execution_count": 101,
   "metadata": {},
   "outputs": [],
   "source": [
    "payment_Lst = (totalpay['payment_amount']/0.0351562599839 + .263778).round()"
   ]
  },
  {
   "cell_type": "code",
   "execution_count": 102,
   "metadata": {},
   "outputs": [
    {
     "data": {
      "text/plain": [
       "-4.0      1062718\n",
       " 16.0       11320\n",
       " 46.0        6390\n",
       " 26.0        3708\n",
       " 96.0        3642\n",
       " 6.0         3246\n",
       " 56.0        3036\n",
       " 66.0        1750\n",
       " 146.0       1303\n",
       " 36.0        1200\n",
       " 196.0       1107\n",
       " 116.0       1046\n",
       " 1.0         1045\n",
       " 76.0        1033\n",
       " 106.0        734\n",
       "-3.0          632\n",
       " 86.0         547\n",
       " 126.0        498\n",
       " 296.0        495\n",
       " 166.0        466\n",
       " 11.0         426\n",
       " 246.0        409\n",
       " 156.0        386\n",
       " 21.0         346\n",
       " 97.0         307\n",
       "-2.0          306\n",
       " 47.0         296\n",
       " 176.0        285\n",
       " 496.0        282\n",
       " 216.0        278\n",
       "           ...   \n",
       " 184.0          1\n",
       " 463.0          1\n",
       " 193.0          1\n",
       " 310.0          1\n",
       " 323.0          1\n",
       " 423.0          1\n",
       " 390.0          1\n",
       " 422.0          1\n",
       " 417.0          1\n",
       " 925.0          1\n",
       " 414.0          1\n",
       " 413.0          1\n",
       " 946.0          1\n",
       " 956.0          1\n",
       " 412.0          1\n",
       " 407.0          1\n",
       " 405.0          1\n",
       " 387.0          1\n",
       " 325.0          1\n",
       " 382.0          1\n",
       " 272.0          1\n",
       " 528.0          1\n",
       " 363.0          1\n",
       " 357.0          1\n",
       " 345.0          1\n",
       " 344.0          1\n",
       " 334.0          1\n",
       " 332.0          1\n",
       " 752.0          1\n",
       " 511.0          1\n",
       "Name: payment_amount, dtype: int64"
      ]
     },
     "execution_count": 102,
     "metadata": {},
     "output_type": "execute_result"
    }
   ],
   "source": [
    "payment_Lst.value_counts()"
   ]
  },
  {
   "cell_type": "code",
   "execution_count": 103,
   "metadata": {},
   "outputs": [],
   "source": [
    "totalpay['unstandardized'] = payment_Lst + 4"
   ]
  },
  {
   "cell_type": "code",
   "execution_count": 104,
   "metadata": {},
   "outputs": [],
   "source": [
    "totalpay.columns = ['payment_week', 'acc_id', 'payment_amount', 'unstd']"
   ]
  },
  {
   "cell_type": "code",
   "execution_count": 105,
   "metadata": {},
   "outputs": [],
   "source": [
    "def f(x) :\n",
    "    if x['unstd'] == 0 :\n",
    "        return 0\n",
    "    else :\n",
    "        return 1"
   ]
  },
  {
   "cell_type": "code",
   "execution_count": 106,
   "metadata": {},
   "outputs": [],
   "source": [
    "totalpay['pay_exist'] = totalpay.apply(f, axis = 1)"
   ]
  },
  {
   "cell_type": "code",
   "execution_count": 107,
   "metadata": {},
   "outputs": [],
   "source": [
    "totalpay_sum = totalpay.groupby('acc_id').sum().reset_index()"
   ]
  },
  {
   "cell_type": "code",
   "execution_count": 111,
   "metadata": {},
   "outputs": [],
   "source": [
    "totalpay_ = totalpay.merge(totalpay_sum[['acc_id', 'unstd', 'pay_exist']], on = 'acc_id')"
   ]
  },
  {
   "cell_type": "code",
   "execution_count": 113,
   "metadata": {},
   "outputs": [],
   "source": [
    "totalpay_ = totalpay_.drop('payment_amount', axis = 1)"
   ]
  },
  {
   "cell_type": "code",
   "execution_count": 117,
   "metadata": {},
   "outputs": [
    {
     "data": {
      "text/html": [
       "<div>\n",
       "<table border=\"1\" class=\"dataframe\">\n",
       "  <thead>\n",
       "    <tr style=\"text-align: right;\">\n",
       "      <th></th>\n",
       "      <th>payment_week</th>\n",
       "      <th>acc_id</th>\n",
       "      <th>unstd_x</th>\n",
       "      <th>pay_exist_x</th>\n",
       "      <th>unstd_y</th>\n",
       "      <th>pay_exist_y</th>\n",
       "    </tr>\n",
       "  </thead>\n",
       "  <tbody>\n",
       "    <tr>\n",
       "      <th>0</th>\n",
       "      <td>1</td>\n",
       "      <td>3dc6f2875dc6e6f35b9e2bdb25b391a8003386ff23becd...</td>\n",
       "      <td>0.0</td>\n",
       "      <td>0</td>\n",
       "      <td>0.0</td>\n",
       "      <td>0</td>\n",
       "    </tr>\n",
       "    <tr>\n",
       "      <th>1</th>\n",
       "      <td>2</td>\n",
       "      <td>3dc6f2875dc6e6f35b9e2bdb25b391a8003386ff23becd...</td>\n",
       "      <td>0.0</td>\n",
       "      <td>0</td>\n",
       "      <td>0.0</td>\n",
       "      <td>0</td>\n",
       "    </tr>\n",
       "    <tr>\n",
       "      <th>2</th>\n",
       "      <td>3</td>\n",
       "      <td>3dc6f2875dc6e6f35b9e2bdb25b391a8003386ff23becd...</td>\n",
       "      <td>0.0</td>\n",
       "      <td>0</td>\n",
       "      <td>0.0</td>\n",
       "      <td>0</td>\n",
       "    </tr>\n",
       "    <tr>\n",
       "      <th>3</th>\n",
       "      <td>4</td>\n",
       "      <td>3dc6f2875dc6e6f35b9e2bdb25b391a8003386ff23becd...</td>\n",
       "      <td>0.0</td>\n",
       "      <td>0</td>\n",
       "      <td>0.0</td>\n",
       "      <td>0</td>\n",
       "    </tr>\n",
       "    <tr>\n",
       "      <th>4</th>\n",
       "      <td>5</td>\n",
       "      <td>3dc6f2875dc6e6f35b9e2bdb25b391a8003386ff23becd...</td>\n",
       "      <td>0.0</td>\n",
       "      <td>0</td>\n",
       "      <td>0.0</td>\n",
       "      <td>0</td>\n",
       "    </tr>\n",
       "  </tbody>\n",
       "</table>\n",
       "</div>"
      ],
      "text/plain": [
       "   payment_week                                             acc_id  unstd_x  \\\n",
       "0             1  3dc6f2875dc6e6f35b9e2bdb25b391a8003386ff23becd...      0.0   \n",
       "1             2  3dc6f2875dc6e6f35b9e2bdb25b391a8003386ff23becd...      0.0   \n",
       "2             3  3dc6f2875dc6e6f35b9e2bdb25b391a8003386ff23becd...      0.0   \n",
       "3             4  3dc6f2875dc6e6f35b9e2bdb25b391a8003386ff23becd...      0.0   \n",
       "4             5  3dc6f2875dc6e6f35b9e2bdb25b391a8003386ff23becd...      0.0   \n",
       "\n",
       "   pay_exist_x  unstd_y  pay_exist_y  \n",
       "0            0      0.0            0  \n",
       "1            0      0.0            0  \n",
       "2            0      0.0            0  \n",
       "3            0      0.0            0  \n",
       "4            0      0.0            0  "
      ]
     },
     "execution_count": 117,
     "metadata": {},
     "output_type": "execute_result"
    }
   ],
   "source": [
    "totalpay_.head()"
   ]
  },
  {
   "cell_type": "code",
   "execution_count": 120,
   "metadata": {},
   "outputs": [],
   "source": [
    "totalpay_.columns = ['wk', 'acc_id', 'payment_amount', 'pay_exist', 'total_payment_amount',\n",
    "       'total_pay_exist']"
   ]
  },
  {
   "cell_type": "code",
   "execution_count": 127,
   "metadata": {},
   "outputs": [
    {
     "data": {
      "text/html": [
       "<div>\n",
       "<table border=\"1\" class=\"dataframe\">\n",
       "  <thead>\n",
       "    <tr style=\"text-align: right;\">\n",
       "      <th></th>\n",
       "      <th>wk</th>\n",
       "      <th>acc_id</th>\n",
       "      <th>cnt_dt</th>\n",
       "      <th>play_time</th>\n",
       "      <th>npc_exp</th>\n",
       "      <th>npc_hongmun</th>\n",
       "      <th>quest_exp</th>\n",
       "      <th>quest_hongmun</th>\n",
       "      <th>item_hongmun</th>\n",
       "      <th>game_combat_time</th>\n",
       "      <th>...</th>\n",
       "      <th>game_efficiency</th>\n",
       "      <th>1wk</th>\n",
       "      <th>2wk</th>\n",
       "      <th>3wk</th>\n",
       "      <th>4wk</th>\n",
       "      <th>5wk</th>\n",
       "      <th>6wk</th>\n",
       "      <th>7wk</th>\n",
       "      <th>8wk</th>\n",
       "      <th>num_wk</th>\n",
       "    </tr>\n",
       "  </thead>\n",
       "  <tbody>\n",
       "    <tr>\n",
       "      <th>0</th>\n",
       "      <td>7</td>\n",
       "      <td>3dc6f2875dc6e6f35b9e2bdb25b391a8003386ff23becd...</td>\n",
       "      <td>4</td>\n",
       "      <td>278088.999988</td>\n",
       "      <td>152118.000008</td>\n",
       "      <td>36048.000001</td>\n",
       "      <td>9.111460e+05</td>\n",
       "      <td>1.655600e+06</td>\n",
       "      <td>0.0</td>\n",
       "      <td>62088.0</td>\n",
       "      <td>...</td>\n",
       "      <td>9.906584</td>\n",
       "      <td>0</td>\n",
       "      <td>0</td>\n",
       "      <td>0</td>\n",
       "      <td>0</td>\n",
       "      <td>0</td>\n",
       "      <td>0</td>\n",
       "      <td>1</td>\n",
       "      <td>1</td>\n",
       "      <td>2</td>\n",
       "    </tr>\n",
       "    <tr>\n",
       "      <th>1</th>\n",
       "      <td>8</td>\n",
       "      <td>3dc6f2875dc6e6f35b9e2bdb25b391a8003386ff23becd...</td>\n",
       "      <td>5</td>\n",
       "      <td>337199.999986</td>\n",
       "      <td>163768.000009</td>\n",
       "      <td>54300.000002</td>\n",
       "      <td>1.231374e+06</td>\n",
       "      <td>2.483400e+06</td>\n",
       "      <td>0.0</td>\n",
       "      <td>80692.0</td>\n",
       "      <td>...</td>\n",
       "      <td>11.663233</td>\n",
       "      <td>0</td>\n",
       "      <td>0</td>\n",
       "      <td>0</td>\n",
       "      <td>0</td>\n",
       "      <td>0</td>\n",
       "      <td>0</td>\n",
       "      <td>1</td>\n",
       "      <td>1</td>\n",
       "      <td>2</td>\n",
       "    </tr>\n",
       "    <tr>\n",
       "      <th>2</th>\n",
       "      <td>3</td>\n",
       "      <td>b8856358ff62e596fa07e3e40b8e7fd4b7729263c72b44...</td>\n",
       "      <td>2</td>\n",
       "      <td>1228.000000</td>\n",
       "      <td>28.000000</td>\n",
       "      <td>0.000000</td>\n",
       "      <td>8.610000e+02</td>\n",
       "      <td>0.000000e+00</td>\n",
       "      <td>0.0</td>\n",
       "      <td>111.0</td>\n",
       "      <td>...</td>\n",
       "      <td>0.723941</td>\n",
       "      <td>0</td>\n",
       "      <td>0</td>\n",
       "      <td>1</td>\n",
       "      <td>1</td>\n",
       "      <td>1</td>\n",
       "      <td>0</td>\n",
       "      <td>1</td>\n",
       "      <td>1</td>\n",
       "      <td>5</td>\n",
       "    </tr>\n",
       "    <tr>\n",
       "      <th>3</th>\n",
       "      <td>4</td>\n",
       "      <td>b8856358ff62e596fa07e3e40b8e7fd4b7729263c72b44...</td>\n",
       "      <td>2</td>\n",
       "      <td>347.000000</td>\n",
       "      <td>0.000000</td>\n",
       "      <td>0.000000</td>\n",
       "      <td>0.000000e+00</td>\n",
       "      <td>0.000000e+00</td>\n",
       "      <td>0.0</td>\n",
       "      <td>0.0</td>\n",
       "      <td>...</td>\n",
       "      <td>0.000000</td>\n",
       "      <td>0</td>\n",
       "      <td>0</td>\n",
       "      <td>1</td>\n",
       "      <td>1</td>\n",
       "      <td>1</td>\n",
       "      <td>0</td>\n",
       "      <td>1</td>\n",
       "      <td>1</td>\n",
       "      <td>5</td>\n",
       "    </tr>\n",
       "    <tr>\n",
       "      <th>4</th>\n",
       "      <td>5</td>\n",
       "      <td>b8856358ff62e596fa07e3e40b8e7fd4b7729263c72b44...</td>\n",
       "      <td>4</td>\n",
       "      <td>701.000000</td>\n",
       "      <td>0.000000</td>\n",
       "      <td>0.000000</td>\n",
       "      <td>0.000000e+00</td>\n",
       "      <td>0.000000e+00</td>\n",
       "      <td>0.0</td>\n",
       "      <td>0.0</td>\n",
       "      <td>...</td>\n",
       "      <td>0.000000</td>\n",
       "      <td>0</td>\n",
       "      <td>0</td>\n",
       "      <td>1</td>\n",
       "      <td>1</td>\n",
       "      <td>1</td>\n",
       "      <td>0</td>\n",
       "      <td>1</td>\n",
       "      <td>1</td>\n",
       "      <td>5</td>\n",
       "    </tr>\n",
       "  </tbody>\n",
       "</table>\n",
       "<p>5 rows × 80 columns</p>\n",
       "</div>"
      ],
      "text/plain": [
       "   wk                                             acc_id  cnt_dt  \\\n",
       "0   7  3dc6f2875dc6e6f35b9e2bdb25b391a8003386ff23becd...       4   \n",
       "1   8  3dc6f2875dc6e6f35b9e2bdb25b391a8003386ff23becd...       5   \n",
       "2   3  b8856358ff62e596fa07e3e40b8e7fd4b7729263c72b44...       2   \n",
       "3   4  b8856358ff62e596fa07e3e40b8e7fd4b7729263c72b44...       2   \n",
       "4   5  b8856358ff62e596fa07e3e40b8e7fd4b7729263c72b44...       4   \n",
       "\n",
       "       play_time        npc_exp   npc_hongmun     quest_exp  quest_hongmun  \\\n",
       "0  278088.999988  152118.000008  36048.000001  9.111460e+05   1.655600e+06   \n",
       "1  337199.999986  163768.000009  54300.000002  1.231374e+06   2.483400e+06   \n",
       "2    1228.000000      28.000000      0.000000  8.610000e+02   0.000000e+00   \n",
       "3     347.000000       0.000000      0.000000  0.000000e+00   0.000000e+00   \n",
       "4     701.000000       0.000000      0.000000  0.000000e+00   0.000000e+00   \n",
       "\n",
       "   item_hongmun  game_combat_time   ...    game_efficiency  1wk  2wk  3wk  \\\n",
       "0           0.0           62088.0   ...           9.906584    0    0    0   \n",
       "1           0.0           80692.0   ...          11.663233    0    0    0   \n",
       "2           0.0             111.0   ...           0.723941    0    0    1   \n",
       "3           0.0               0.0   ...           0.000000    0    0    1   \n",
       "4           0.0               0.0   ...           0.000000    0    0    1   \n",
       "\n",
       "   4wk  5wk  6wk  7wk  8wk  num_wk  \n",
       "0    0    0    0    1    1       2  \n",
       "1    0    0    0    1    1       2  \n",
       "2    1    1    0    1    1       5  \n",
       "3    1    1    0    1    1       5  \n",
       "4    1    1    0    1    1       5  \n",
       "\n",
       "[5 rows x 80 columns]"
      ]
     },
     "execution_count": 127,
     "metadata": {},
     "output_type": "execute_result"
    }
   ],
   "source": [
    "data.head()"
   ]
  },
  {
   "cell_type": "code",
   "execution_count": 128,
   "metadata": {},
   "outputs": [],
   "source": [
    "data = data.merge(totalpay_, on = ['wk', 'acc_id'])"
   ]
  },
  {
   "cell_type": "code",
   "execution_count": 132,
   "metadata": {},
   "outputs": [],
   "source": [
    "data = data.drop('payment_amount_x', axis = 1)"
   ]
  },
  {
   "cell_type": "code",
   "execution_count": 93,
   "metadata": {},
   "outputs": [],
   "source": [
    "totalpay = totalpay.groupby('acc_id').sum().reset_index()"
   ]
  },
  {
   "cell_type": "code",
   "execution_count": 147,
   "metadata": {},
   "outputs": [],
   "source": [
    "def f(x) :\n",
    "    return x['cnt_clear_inzone_solo'] + x['cnt_clear_inzone_light'] + x['cnt_clear_inzone_skilled'] + x['cnt_clear_inzone_normal']"
   ]
  },
  {
   "cell_type": "code",
   "execution_count": 148,
   "metadata": {},
   "outputs": [],
   "source": [
    "data['total_cnt_clear_inzone'] = data.apply(f, axis = 1)"
   ]
  },
  {
   "cell_type": "code",
   "execution_count": 153,
   "metadata": {},
   "outputs": [],
   "source": [
    "def f(x) :\n",
    "    return x['cnt_clear_raid'] + x['cnt_clear_raid_light'] + x['cnt_clear_bam']"
   ]
  },
  {
   "cell_type": "code",
   "execution_count": 154,
   "metadata": {},
   "outputs": [],
   "source": [
    "data['total_cnt_clear_raid_bam'] = data.apply(f, axis = 1)"
   ]
  },
  {
   "cell_type": "code",
   "execution_count": 159,
   "metadata": {},
   "outputs": [
    {
     "data": {
      "text/html": [
       "<div>\n",
       "<table border=\"1\" class=\"dataframe\">\n",
       "  <thead>\n",
       "    <tr style=\"text-align: right;\">\n",
       "      <th></th>\n",
       "      <th>wk</th>\n",
       "      <th>acc_id</th>\n",
       "      <th>payment_amount</th>\n",
       "      <th>pay_exist</th>\n",
       "      <th>total_payment_amount</th>\n",
       "      <th>total_pay_exist</th>\n",
       "    </tr>\n",
       "  </thead>\n",
       "  <tbody>\n",
       "    <tr>\n",
       "      <th>615949</th>\n",
       "      <td>4</td>\n",
       "      <td>813ad8039e2692aecc1b7875f3a9b1e951477937ec30bd...</td>\n",
       "      <td>0.0</td>\n",
       "      <td>0</td>\n",
       "      <td>757.0</td>\n",
       "      <td>5</td>\n",
       "    </tr>\n",
       "    <tr>\n",
       "      <th>615950</th>\n",
       "      <td>5</td>\n",
       "      <td>813ad8039e2692aecc1b7875f3a9b1e951477937ec30bd...</td>\n",
       "      <td>417.0</td>\n",
       "      <td>1</td>\n",
       "      <td>757.0</td>\n",
       "      <td>5</td>\n",
       "    </tr>\n",
       "    <tr>\n",
       "      <th>615951</th>\n",
       "      <td>6</td>\n",
       "      <td>813ad8039e2692aecc1b7875f3a9b1e951477937ec30bd...</td>\n",
       "      <td>79.0</td>\n",
       "      <td>1</td>\n",
       "      <td>757.0</td>\n",
       "      <td>5</td>\n",
       "    </tr>\n",
       "    <tr>\n",
       "      <th>615952</th>\n",
       "      <td>7</td>\n",
       "      <td>813ad8039e2692aecc1b7875f3a9b1e951477937ec30bd...</td>\n",
       "      <td>0.0</td>\n",
       "      <td>0</td>\n",
       "      <td>757.0</td>\n",
       "      <td>5</td>\n",
       "    </tr>\n",
       "    <tr>\n",
       "      <th>615953</th>\n",
       "      <td>8</td>\n",
       "      <td>813ad8039e2692aecc1b7875f3a9b1e951477937ec30bd...</td>\n",
       "      <td>157.0</td>\n",
       "      <td>1</td>\n",
       "      <td>757.0</td>\n",
       "      <td>5</td>\n",
       "    </tr>\n",
       "  </tbody>\n",
       "</table>\n",
       "</div>"
      ],
      "text/plain": [
       "        wk                                             acc_id  payment_amount  \\\n",
       "615949   4  813ad8039e2692aecc1b7875f3a9b1e951477937ec30bd...             0.0   \n",
       "615950   5  813ad8039e2692aecc1b7875f3a9b1e951477937ec30bd...           417.0   \n",
       "615951   6  813ad8039e2692aecc1b7875f3a9b1e951477937ec30bd...            79.0   \n",
       "615952   7  813ad8039e2692aecc1b7875f3a9b1e951477937ec30bd...             0.0   \n",
       "615953   8  813ad8039e2692aecc1b7875f3a9b1e951477937ec30bd...           157.0   \n",
       "\n",
       "        pay_exist  total_payment_amount  total_pay_exist  \n",
       "615949          0                 757.0                5  \n",
       "615950          1                 757.0                5  \n",
       "615951          1                 757.0                5  \n",
       "615952          0                 757.0                5  \n",
       "615953          1                 757.0                5  "
      ]
     },
     "execution_count": 159,
     "metadata": {},
     "output_type": "execute_result"
    }
   ],
   "source": [
    "data[['wk', 'acc_id', 'payment_amount', 'pay_exist', 'total_payment_amount',\n",
    "       'total_pay_exist']].tail()"
   ]
  },
  {
   "cell_type": "code",
   "execution_count": 165,
   "metadata": {},
   "outputs": [],
   "source": [
    "def f(x) :\n",
    "    if x['total_payment_amount'] == 0 :\n",
    "        return 0\n",
    "    else :\n",
    "        return x['payment_amount']/x['total_payment_amount']"
   ]
  },
  {
   "cell_type": "code",
   "execution_count": 160,
   "metadata": {},
   "outputs": [],
   "source": [
    "def f(x) :\n",
    "    if x['total_payment_amount'] == 0 :\n",
    "        return 0\n",
    "    else :\n",
    "        return x['payment_amount']/x['total_payment_amount']"
   ]
  },
  {
   "cell_type": "code",
   "execution_count": 166,
   "metadata": {},
   "outputs": [],
   "source": [
    "data['payment_rate'] = data.apply(f, axis = 1)"
   ]
  },
  {
   "cell_type": "code",
   "execution_count": 168,
   "metadata": {},
   "outputs": [],
   "source": [
    "data = data.drop('rate_payment', axis = 1)"
   ]
  },
  {
   "cell_type": "code",
   "execution_count": 175,
   "metadata": {},
   "outputs": [],
   "source": [
    "payment = data[['wk', 'acc_id', 'payment_amount', 'pay_exist', 'total_payment_amount', 'total_num_pay', 'payment_rate']]"
   ]
  },
  {
   "cell_type": "code",
   "execution_count": 177,
   "metadata": {},
   "outputs": [],
   "source": [
    "payment.to_csv(\"payment.csv\")"
   ]
  },
  {
   "cell_type": "code",
   "execution_count": 173,
   "metadata": {},
   "outputs": [],
   "source": [
    "data.columns = ['wk', 'acc_id', 'cnt_dt', 'play_time', 'npc_exp', 'npc_hongmun',\n",
    "       'quest_exp', 'quest_hongmun', 'item_hongmun', 'game_combat_time',\n",
    "       'get_money', 'duel_cnt', 'duel_win', 'partybattle_cnt',\n",
    "       'partybattle_win', 'cnt_enter_inzone_solo', 'cnt_enter_inzone_light',\n",
    "       'cnt_enter_inzone_skilled', 'cnt_enter_inzone_normal', 'cnt_enter_raid',\n",
    "       'cnt_enter_raid_light', 'cnt_enter_bam', 'cnt_clear_inzone_solo',\n",
    "       'cnt_clear_inzone_light', 'cnt_clear_inzone_skilled',\n",
    "       'cnt_clear_inzone_normal', 'cnt_clear_raid', 'cnt_clear_raid_light',\n",
    "       'cnt_clear_bam', 'normal_chat', 'whisper_chat', 'district_chat',\n",
    "       'party_chat', 'guild_chat', 'faction_chat', 'cnt_use_buffitem',\n",
    "       'gathering_cnt', 'making_cnt', 'total_party_time',\n",
    "       'party_participation_number', 'weighted_average_member', 'guild_count',\n",
    "       'from_accessory', 'from_costume', 'from_gem', 'from_grocery',\n",
    "       'from_money', 'from_weapon', 'to_accessory', 'to_costume', 'to_gem',\n",
    "       'to_grocery', 'to_money', 'to_weapon', 'label', 'combat_per_play',\n",
    "       'cnt_rate_inzone_solo', 'cnt_rate_inzone_light',\n",
    "       'cnt_rate_inzone_skilled', 'cnt_rate_inzone_normal', 'cnt_rate_raid',\n",
    "       'cnt_rate_raid_light', 'cnt_rate_bam', 'duel_rate', 'partybattle_rate',\n",
    "       'length', 'guild_max', 'cnt_dt_total', 'cnt_dt_rate', 'game_efficiency',\n",
    "       '1wk', '2wk', '3wk', '4wk', '5wk', '6wk', '7wk', '8wk', 'num_wk',\n",
    "       'payment_amount', 'pay_exist', 'total_payment_amount',\n",
    "       'total_num_pay', 'total_cnt_enter_inzone', 'total_cnt_enter_raid_bam',\n",
    "       'total_cnt_clear_inzone', 'total_cnt_clear_raid_bam', 'payment_rate']"
   ]
  },
  {
   "cell_type": "code",
   "execution_count": 161,
   "metadata": {},
   "outputs": [],
   "source": [
    "data['rate_payment'] = data.apply(f, axis = 1)"
   ]
  },
  {
   "cell_type": "code",
   "execution_count": 164,
   "metadata": {},
   "outputs": [
    {
     "data": {
      "text/plain": [
       "Index(['wk', 'acc_id', 'cnt_dt', 'play_time', 'npc_exp', 'npc_hongmun',\n",
       "       'quest_exp', 'quest_hongmun', 'item_hongmun', 'game_combat_time',\n",
       "       'get_money', 'duel_cnt', 'duel_win', 'partybattle_cnt',\n",
       "       'partybattle_win', 'cnt_enter_inzone_solo', 'cnt_enter_inzone_light',\n",
       "       'cnt_enter_inzone_skilled', 'cnt_enter_inzone_normal', 'cnt_enter_raid',\n",
       "       'cnt_enter_raid_light', 'cnt_enter_bam', 'cnt_clear_inzone_solo',\n",
       "       'cnt_clear_inzone_light', 'cnt_clear_inzone_skilled',\n",
       "       'cnt_clear_inzone_normal', 'cnt_clear_raid', 'cnt_clear_raid_light',\n",
       "       'cnt_clear_bam', 'normal_chat', 'whisper_chat', 'district_chat',\n",
       "       'party_chat', 'guild_chat', 'faction_chat', 'cnt_use_buffitem',\n",
       "       'gathering_cnt', 'making_cnt', 'total_party_time',\n",
       "       'party_participation_number', 'weighted_average_member', 'guild_count',\n",
       "       'from_accessory', 'from_costume', 'from_gem', 'from_grocery',\n",
       "       'from_money', 'from_weapon', 'to_accessory', 'to_costume', 'to_gem',\n",
       "       'to_grocery', 'to_money', 'to_weapon', 'label', 'combat_per_play',\n",
       "       'cnt_rate_inzone_solo', 'cnt_rate_inzone_light',\n",
       "       'cnt_rate_inzone_skilled', 'cnt_rate_inzone_normal', 'cnt_rate_raid',\n",
       "       'cnt_rate_raid_light', 'cnt_rate_bam', 'duel_rate', 'partybattle_rate',\n",
       "       'length', 'guild_max', 'cnt_dt_total', 'cnt_dt_rate', 'game_efficiency',\n",
       "       '1wk', '2wk', '3wk', '4wk', '5wk', '6wk', '7wk', '8wk', 'num_wk',\n",
       "       'payment_amount', 'pay_exist', 'total_payment_amount',\n",
       "       'total_pay_exist', 'total_cnt_enter_inzone', 'total_cnt_enter_raid_bam',\n",
       "       'total_cnt_clear_inzone', 'total_cnt_clear_raid_bam', 'rate_payment'],\n",
       "      dtype='object')"
      ]
     },
     "execution_count": 164,
     "metadata": {},
     "output_type": "execute_result"
    }
   ],
   "source": [
    "data.columns"
   ]
  },
  {
   "cell_type": "code",
   "execution_count": 179,
   "metadata": {},
   "outputs": [],
   "source": [
    "data.to_csv(\"data.csv\")"
   ]
  },
  {
   "cell_type": "code",
   "execution_count": null,
   "metadata": {},
   "outputs": [],
   "source": []
  }
 ],
 "metadata": {
  "kernelspec": {
   "display_name": "Python 3",
   "language": "python",
   "name": "python3"
  },
  "language_info": {
   "codemirror_mode": {
    "name": "ipython",
    "version": 3
   },
   "file_extension": ".py",
   "mimetype": "text/x-python",
   "name": "python",
   "nbconvert_exporter": "python",
   "pygments_lexer": "ipython3",
   "version": "3.6.3"
  }
 },
 "nbformat": 4,
 "nbformat_minor": 2
}
